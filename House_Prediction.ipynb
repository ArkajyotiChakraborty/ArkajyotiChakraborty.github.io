{
  "nbformat": 4,
  "nbformat_minor": 0,
  "metadata": {
    "colab": {
      "name": "House_Prediction.ipynb",
      "provenance": [],
      "authorship_tag": "ABX9TyPL6HbYxKKXH3RJxE2NsYd8",
      "include_colab_link": true
    },
    "kernelspec": {
      "name": "python3",
      "display_name": "Python 3"
    },
    "language_info": {
      "name": "python"
    }
  },
  "cells": [
    {
      "cell_type": "markdown",
      "metadata": {
        "id": "view-in-github",
        "colab_type": "text"
      },
      "source": [
        "<a href=\"https://colab.research.google.com/github/ArkajyotiChakraborty/ArkajyotiChakraborty.github.io/blob/master/House_Prediction.ipynb\" target=\"_parent\"><img src=\"https://colab.research.google.com/assets/colab-badge.svg\" alt=\"Open In Colab\"/></a>"
      ]
    },
    {
      "cell_type": "code",
      "metadata": {
        "colab": {
          "base_uri": "https://localhost:8080/",
          "height": 296
        },
        "id": "n85HpxcCMQdo",
        "outputId": "e4412421-b345-44c3-834b-bd07df63e300"
      },
      "source": [
        "#The first experiment that is been done on the very small data state for this project of house prediction:\n",
        "import numpy as np\n",
        "from sklearn import linear_model\n",
        "import matplotlib.pyplot as plt\n",
        "x = np.array([2600, 3000, 3200,3600,4000])\n",
        "y = np.array([550000, 565000, 610000, 680000, 725000])\n",
        "#x printing to check the values are in perfect order\n",
        "#y printing the values.\n",
        "plt.xlabel('Area of the House')\n",
        "plt.ylabel('Price of the house')#labeling the axis\n",
        "plt.scatter(x,y,color = 'blue', marker='*')\n",
        "\n"
      ],
      "execution_count": 10,
      "outputs": [
        {
          "output_type": "execute_result",
          "data": {
            "text/plain": [
              "<matplotlib.collections.PathCollection at 0x7f9c72fea390>"
            ]
          },
          "metadata": {
            "tags": []
          },
          "execution_count": 10
        },
        {
          "output_type": "display_data",
          "data": {
            "image/png": "[encoded data removed]",
            "text/plain": [
              "<Figure size 432x288 with 1 Axes>"
            ]
          },
          "metadata": {
            "tags": [],
            "needs_background": "light"
          }
        }
      ]
    }
  ]
}